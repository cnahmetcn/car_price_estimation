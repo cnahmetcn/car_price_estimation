{
 "cells": [
  {
   "cell_type": "code",
   "execution_count": 1,
   "metadata": {},
   "outputs": [],
   "source": [
    "import pandas as pd\n",
    "import numpy as np\n",
    "import matplotlib.pyplot as plt\n",
    "import seaborn as sns\n",
    "from sklearn.metrics import r2_score\n",
    "from sklearn.ensemble import RandomForestRegressor\n",
    "from sklearn.linear_model import LinearRegression\n",
    "\n",
    "#kütüphaneleri import ediyoruz"
   ]
  },
  {
   "cell_type": "code",
   "execution_count": 2,
   "metadata": {},
   "outputs": [],
   "source": [
    "data=pd.read_csv(\"veri.csv\", sep=\";\", encoding=\"windows-1252\")\n",
    "\n",
    "\n",
    "#arac.csv verisini okuyup verilerini import ediyoruz."
   ]
  },
  {
   "cell_type": "code",
   "execution_count": 3,
   "metadata": {},
   "outputs": [
    {
     "name": "stdout",
     "output_type": "stream",
     "text": [
      "<class 'pandas.core.frame.DataFrame'>\n",
      "RangeIndex: 501 entries, 0 to 500\n",
      "Data columns (total 14 columns):\n",
      "ilan_No        501 non-null object\n",
      "ilan_tarihi    501 non-null object\n",
      "marka          501 non-null object\n",
      "seri           501 non-null int64\n",
      "model          501 non-null object\n",
      "yil            501 non-null int64\n",
      "yakit          501 non-null int64\n",
      "vites          501 non-null int64\n",
      "km             501 non-null float64\n",
      "renk           501 non-null int64\n",
      "motor_gucu     501 non-null int64\n",
      "motor_hacim    501 non-null int64\n",
      "kasa_tipi      501 non-null object\n",
      "fiyat          501 non-null float64\n",
      "dtypes: float64(2), int64(7), object(5)\n",
      "memory usage: 54.9+ KB\n"
     ]
    }
   ],
   "source": [
    "data.info()\n",
    "#kolonların veri tipi,veri sayısı hakkında bilgi "
   ]
  },
  {
   "cell_type": "code",
   "execution_count": 4,
   "metadata": {},
   "outputs": [
    {
     "data": {
      "text/plain": [
       "pandas.core.frame.DataFrame"
      ]
     },
     "execution_count": 4,
     "metadata": {},
     "output_type": "execute_result"
    }
   ],
   "source": [
    "type(data)\n",
    "#data nın veri yapısı hakkında bilgi"
   ]
  },
  {
   "cell_type": "code",
   "execution_count": 5,
   "metadata": {},
   "outputs": [
    {
     "data": {
      "text/plain": [
       "Index(['ilan_No', 'ilan_tarihi', 'marka', 'seri', 'model', 'yil', 'yakit',\n",
       "       'vites', 'km', 'renk', 'motor_gucu', 'motor_hacim', 'kasa_tipi',\n",
       "       'fiyat'],\n",
       "      dtype='object')"
      ]
     },
     "execution_count": 5,
     "metadata": {},
     "output_type": "execute_result"
    }
   ],
   "source": [
    "data.columns\n",
    "#kolonların isimleri"
   ]
  },
  {
   "cell_type": "code",
   "execution_count": 6,
   "metadata": {},
   "outputs": [
    {
     "data": {
      "text/html": [
       "<div>\n",
       "<style scoped>\n",
       "    .dataframe tbody tr th:only-of-type {\n",
       "        vertical-align: middle;\n",
       "    }\n",
       "\n",
       "    .dataframe tbody tr th {\n",
       "        vertical-align: top;\n",
       "    }\n",
       "\n",
       "    .dataframe thead th {\n",
       "        text-align: right;\n",
       "    }\n",
       "</style>\n",
       "<table border=\"1\" class=\"dataframe\">\n",
       "  <thead>\n",
       "    <tr style=\"text-align: right;\">\n",
       "      <th></th>\n",
       "      <th>seri</th>\n",
       "      <th>yil</th>\n",
       "      <th>yakit</th>\n",
       "      <th>vites</th>\n",
       "      <th>km</th>\n",
       "      <th>renk</th>\n",
       "      <th>motor_gucu</th>\n",
       "      <th>motor_hacim</th>\n",
       "      <th>fiyat</th>\n",
       "    </tr>\n",
       "  </thead>\n",
       "  <tbody>\n",
       "    <tr>\n",
       "      <th>count</th>\n",
       "      <td>501.0</td>\n",
       "      <td>501.000000</td>\n",
       "      <td>501.0</td>\n",
       "      <td>501.000000</td>\n",
       "      <td>501.000000</td>\n",
       "      <td>501.000000</td>\n",
       "      <td>501.000000</td>\n",
       "      <td>501.000000</td>\n",
       "      <td>501.000000</td>\n",
       "    </tr>\n",
       "    <tr>\n",
       "      <th>mean</th>\n",
       "      <td>3.0</td>\n",
       "      <td>2007.219561</td>\n",
       "      <td>1.0</td>\n",
       "      <td>0.061876</td>\n",
       "      <td>222.614854</td>\n",
       "      <td>2.900200</td>\n",
       "      <td>168.896208</td>\n",
       "      <td>1994.758483</td>\n",
       "      <td>83.078471</td>\n",
       "    </tr>\n",
       "    <tr>\n",
       "      <th>std</th>\n",
       "      <td>0.0</td>\n",
       "      <td>3.627078</td>\n",
       "      <td>0.0</td>\n",
       "      <td>0.241171</td>\n",
       "      <td>70.310702</td>\n",
       "      <td>2.189525</td>\n",
       "      <td>15.610420</td>\n",
       "      <td>24.200404</td>\n",
       "      <td>31.189657</td>\n",
       "    </tr>\n",
       "    <tr>\n",
       "      <th>min</th>\n",
       "      <td>3.0</td>\n",
       "      <td>1998.000000</td>\n",
       "      <td>1.0</td>\n",
       "      <td>0.000000</td>\n",
       "      <td>42.000000</td>\n",
       "      <td>1.000000</td>\n",
       "      <td>125.000000</td>\n",
       "      <td>1951.000000</td>\n",
       "      <td>36.000000</td>\n",
       "    </tr>\n",
       "    <tr>\n",
       "      <th>25%</th>\n",
       "      <td>3.0</td>\n",
       "      <td>2005.000000</td>\n",
       "      <td>1.0</td>\n",
       "      <td>0.000000</td>\n",
       "      <td>179.000000</td>\n",
       "      <td>2.000000</td>\n",
       "      <td>163.000000</td>\n",
       "      <td>1995.000000</td>\n",
       "      <td>62.500000</td>\n",
       "    </tr>\n",
       "    <tr>\n",
       "      <th>50%</th>\n",
       "      <td>3.0</td>\n",
       "      <td>2006.000000</td>\n",
       "      <td>1.0</td>\n",
       "      <td>0.000000</td>\n",
       "      <td>222.100000</td>\n",
       "      <td>2.000000</td>\n",
       "      <td>163.000000</td>\n",
       "      <td>1995.000000</td>\n",
       "      <td>73.950000</td>\n",
       "    </tr>\n",
       "    <tr>\n",
       "      <th>75%</th>\n",
       "      <td>3.0</td>\n",
       "      <td>2010.000000</td>\n",
       "      <td>1.0</td>\n",
       "      <td>0.000000</td>\n",
       "      <td>270.000000</td>\n",
       "      <td>3.000000</td>\n",
       "      <td>184.000000</td>\n",
       "      <td>1995.000000</td>\n",
       "      <td>101.000000</td>\n",
       "    </tr>\n",
       "    <tr>\n",
       "      <th>max</th>\n",
       "      <td>3.0</td>\n",
       "      <td>2015.000000</td>\n",
       "      <td>1.0</td>\n",
       "      <td>1.000000</td>\n",
       "      <td>425.000000</td>\n",
       "      <td>15.000000</td>\n",
       "      <td>225.000000</td>\n",
       "      <td>2500.000000</td>\n",
       "      <td>187.000000</td>\n",
       "    </tr>\n",
       "  </tbody>\n",
       "</table>\n",
       "</div>"
      ],
      "text/plain": [
       "        seri          yil  yakit       vites          km        renk  \\\n",
       "count  501.0   501.000000  501.0  501.000000  501.000000  501.000000   \n",
       "mean     3.0  2007.219561    1.0    0.061876  222.614854    2.900200   \n",
       "std      0.0     3.627078    0.0    0.241171   70.310702    2.189525   \n",
       "min      3.0  1998.000000    1.0    0.000000   42.000000    1.000000   \n",
       "25%      3.0  2005.000000    1.0    0.000000  179.000000    2.000000   \n",
       "50%      3.0  2006.000000    1.0    0.000000  222.100000    2.000000   \n",
       "75%      3.0  2010.000000    1.0    0.000000  270.000000    3.000000   \n",
       "max      3.0  2015.000000    1.0    1.000000  425.000000   15.000000   \n",
       "\n",
       "       motor_gucu  motor_hacim       fiyat  \n",
       "count  501.000000   501.000000  501.000000  \n",
       "mean   168.896208  1994.758483   83.078471  \n",
       "std     15.610420    24.200404   31.189657  \n",
       "min    125.000000  1951.000000   36.000000  \n",
       "25%    163.000000  1995.000000   62.500000  \n",
       "50%    163.000000  1995.000000   73.950000  \n",
       "75%    184.000000  1995.000000  101.000000  \n",
       "max    225.000000  2500.000000  187.000000  "
      ]
     },
     "execution_count": 6,
     "metadata": {},
     "output_type": "execute_result"
    }
   ],
   "source": [
    "data.describe()\n",
    "#sayısal veri tipli kolonlar hakkında min,ax,mean vb. bilgiler"
   ]
  },
  {
   "cell_type": "code",
   "execution_count": 7,
   "metadata": {},
   "outputs": [
    {
     "data": {
      "text/html": [
       "<div>\n",
       "<style scoped>\n",
       "    .dataframe tbody tr th:only-of-type {\n",
       "        vertical-align: middle;\n",
       "    }\n",
       "\n",
       "    .dataframe tbody tr th {\n",
       "        vertical-align: top;\n",
       "    }\n",
       "\n",
       "    .dataframe thead th {\n",
       "        text-align: right;\n",
       "    }\n",
       "</style>\n",
       "<table border=\"1\" class=\"dataframe\">\n",
       "  <thead>\n",
       "    <tr style=\"text-align: right;\">\n",
       "      <th></th>\n",
       "      <th>ilan_No</th>\n",
       "      <th>ilan_tarihi</th>\n",
       "      <th>marka</th>\n",
       "      <th>seri</th>\n",
       "      <th>model</th>\n",
       "      <th>yil</th>\n",
       "      <th>yakit</th>\n",
       "      <th>vites</th>\n",
       "      <th>km</th>\n",
       "      <th>renk</th>\n",
       "      <th>motor_gucu</th>\n",
       "      <th>motor_hacim</th>\n",
       "      <th>kasa_tipi</th>\n",
       "      <th>fiyat</th>\n",
       "    </tr>\n",
       "  </thead>\n",
       "  <tbody>\n",
       "    <tr>\n",
       "      <th>0</th>\n",
       "      <td>672767839</td>\n",
       "      <td>16.03.2019</td>\n",
       "      <td>BMW</td>\n",
       "      <td>3</td>\n",
       "      <td>320d Standart</td>\n",
       "      <td>2010</td>\n",
       "      <td>1</td>\n",
       "      <td>0</td>\n",
       "      <td>230.0</td>\n",
       "      <td>2</td>\n",
       "      <td>177</td>\n",
       "      <td>1995</td>\n",
       "      <td>sedan</td>\n",
       "      <td>90.5</td>\n",
       "    </tr>\n",
       "    <tr>\n",
       "      <th>1</th>\n",
       "      <td>671626694</td>\n",
       "      <td>13.03.2019</td>\n",
       "      <td>BMW</td>\n",
       "      <td>3</td>\n",
       "      <td>320d Standart</td>\n",
       "      <td>2013</td>\n",
       "      <td>1</td>\n",
       "      <td>0</td>\n",
       "      <td>120.0</td>\n",
       "      <td>1</td>\n",
       "      <td>184</td>\n",
       "      <td>1995</td>\n",
       "      <td>sedan</td>\n",
       "      <td>141.9</td>\n",
       "    </tr>\n",
       "    <tr>\n",
       "      <th>2</th>\n",
       "      <td>628429770</td>\n",
       "      <td>01.03.2019</td>\n",
       "      <td>BMW</td>\n",
       "      <td>3</td>\n",
       "      <td>320d Standart</td>\n",
       "      <td>2004</td>\n",
       "      <td>1</td>\n",
       "      <td>0</td>\n",
       "      <td>230.0</td>\n",
       "      <td>3</td>\n",
       "      <td>150</td>\n",
       "      <td>2000</td>\n",
       "      <td>sedan</td>\n",
       "      <td>65.5</td>\n",
       "    </tr>\n",
       "    <tr>\n",
       "      <th>3</th>\n",
       "      <td>664465457</td>\n",
       "      <td>23.02.2019</td>\n",
       "      <td>BMW</td>\n",
       "      <td>3</td>\n",
       "      <td>320d Standart</td>\n",
       "      <td>2013</td>\n",
       "      <td>1</td>\n",
       "      <td>0</td>\n",
       "      <td>100.0</td>\n",
       "      <td>1</td>\n",
       "      <td>184</td>\n",
       "      <td>1995</td>\n",
       "      <td>sedan</td>\n",
       "      <td>165.0</td>\n",
       "    </tr>\n",
       "    <tr>\n",
       "      <th>4</th>\n",
       "      <td>674113721</td>\n",
       "      <td>20.03.2019</td>\n",
       "      <td>BMW</td>\n",
       "      <td>3</td>\n",
       "      <td>320d Standart</td>\n",
       "      <td>2006</td>\n",
       "      <td>1</td>\n",
       "      <td>0</td>\n",
       "      <td>214.0</td>\n",
       "      <td>2</td>\n",
       "      <td>163</td>\n",
       "      <td>1995</td>\n",
       "      <td>sedan</td>\n",
       "      <td>75.0</td>\n",
       "    </tr>\n",
       "    <tr>\n",
       "      <th>5</th>\n",
       "      <td>674172699</td>\n",
       "      <td>20.03.2019</td>\n",
       "      <td>BMW</td>\n",
       "      <td>3</td>\n",
       "      <td>320d Standart</td>\n",
       "      <td>2000</td>\n",
       "      <td>1</td>\n",
       "      <td>1</td>\n",
       "      <td>310.0</td>\n",
       "      <td>3</td>\n",
       "      <td>136</td>\n",
       "      <td>1951</td>\n",
       "      <td>sedan</td>\n",
       "      <td>45.0</td>\n",
       "    </tr>\n",
       "    <tr>\n",
       "      <th>6</th>\n",
       "      <td>662024359</td>\n",
       "      <td>19.03.2019</td>\n",
       "      <td>BMW</td>\n",
       "      <td>3</td>\n",
       "      <td>320d Standart</td>\n",
       "      <td>2007</td>\n",
       "      <td>1</td>\n",
       "      <td>0</td>\n",
       "      <td>288.0</td>\n",
       "      <td>2</td>\n",
       "      <td>163</td>\n",
       "      <td>1995</td>\n",
       "      <td>sedan</td>\n",
       "      <td>82.0</td>\n",
       "    </tr>\n",
       "  </tbody>\n",
       "</table>\n",
       "</div>"
      ],
      "text/plain": [
       "       ilan_No ilan_tarihi marka  seri           model   yil  yakit  vites  \\\n",
       "0    672767839  16.03.2019   BMW     3  320d Standart   2010      1      0   \n",
       "1    671626694  13.03.2019   BMW     3  320d Standart   2013      1      0   \n",
       "2    628429770  01.03.2019   BMW     3  320d Standart   2004      1      0   \n",
       "3    664465457  23.02.2019   BMW     3  320d Standart   2013      1      0   \n",
       "4    674113721  20.03.2019   BMW     3  320d Standart   2006      1      0   \n",
       "5    674172699  20.03.2019   BMW     3  320d Standart   2000      1      1   \n",
       "6    662024359  19.03.2019   BMW     3  320d Standart   2007      1      0   \n",
       "\n",
       "      km  renk  motor_gucu  motor_hacim kasa_tipi  fiyat  \n",
       "0  230.0     2         177         1995     sedan   90.5  \n",
       "1  120.0     1         184         1995     sedan  141.9  \n",
       "2  230.0     3         150         2000     sedan   65.5  \n",
       "3  100.0     1         184         1995     sedan  165.0  \n",
       "4  214.0     2         163         1995     sedan   75.0  \n",
       "5  310.0     3         136         1951     sedan   45.0  \n",
       "6  288.0     2         163         1995     sedan   82.0  "
      ]
     },
     "execution_count": 7,
     "metadata": {},
     "output_type": "execute_result"
    }
   ],
   "source": [
    "data.head(7)\n",
    "#ilk 15 veriyi gösterme"
   ]
  },
  {
   "cell_type": "code",
   "execution_count": 8,
   "metadata": {},
   "outputs": [
    {
     "data": {
      "text/html": [
       "<div>\n",
       "<style scoped>\n",
       "    .dataframe tbody tr th:only-of-type {\n",
       "        vertical-align: middle;\n",
       "    }\n",
       "\n",
       "    .dataframe tbody tr th {\n",
       "        vertical-align: top;\n",
       "    }\n",
       "\n",
       "    .dataframe thead th {\n",
       "        text-align: right;\n",
       "    }\n",
       "</style>\n",
       "<table border=\"1\" class=\"dataframe\">\n",
       "  <thead>\n",
       "    <tr style=\"text-align: right;\">\n",
       "      <th></th>\n",
       "      <th>ilan_No</th>\n",
       "      <th>ilan_tarihi</th>\n",
       "      <th>marka</th>\n",
       "      <th>seri</th>\n",
       "      <th>model</th>\n",
       "      <th>yil</th>\n",
       "      <th>yakit</th>\n",
       "      <th>vites</th>\n",
       "      <th>km</th>\n",
       "      <th>renk</th>\n",
       "      <th>motor_gucu</th>\n",
       "      <th>motor_hacim</th>\n",
       "      <th>kasa_tipi</th>\n",
       "      <th>fiyat</th>\n",
       "    </tr>\n",
       "  </thead>\n",
       "  <tbody>\n",
       "    <tr>\n",
       "      <th>496</th>\n",
       "      <td>10255453</td>\n",
       "      <td>18.Kas.18</td>\n",
       "      <td>BMW</td>\n",
       "      <td>3</td>\n",
       "      <td>320d Standart</td>\n",
       "      <td>2000</td>\n",
       "      <td>1</td>\n",
       "      <td>1</td>\n",
       "      <td>302.0</td>\n",
       "      <td>2</td>\n",
       "      <td>136</td>\n",
       "      <td>1951</td>\n",
       "      <td>sedan</td>\n",
       "      <td>37.0</td>\n",
       "    </tr>\n",
       "    <tr>\n",
       "      <th>497</th>\n",
       "      <td>9862389</td>\n",
       "      <td>18.Eyl.18</td>\n",
       "      <td>BMW</td>\n",
       "      <td>3</td>\n",
       "      <td>320d Standart</td>\n",
       "      <td>2005</td>\n",
       "      <td>1</td>\n",
       "      <td>0</td>\n",
       "      <td>204.0</td>\n",
       "      <td>7</td>\n",
       "      <td>163</td>\n",
       "      <td>1995</td>\n",
       "      <td>sedan</td>\n",
       "      <td>79.0</td>\n",
       "    </tr>\n",
       "    <tr>\n",
       "      <th>498</th>\n",
       "      <td>1769977</td>\n",
       "      <td>06.Kas.17</td>\n",
       "      <td>BMW</td>\n",
       "      <td>3</td>\n",
       "      <td>320d Standart</td>\n",
       "      <td>2006</td>\n",
       "      <td>1</td>\n",
       "      <td>0</td>\n",
       "      <td>287.0</td>\n",
       "      <td>2</td>\n",
       "      <td>175</td>\n",
       "      <td>2000</td>\n",
       "      <td>sedan</td>\n",
       "      <td>67.0</td>\n",
       "    </tr>\n",
       "    <tr>\n",
       "      <th>499</th>\n",
       "      <td>1182416</td>\n",
       "      <td>05.Mar.18</td>\n",
       "      <td>BMW</td>\n",
       "      <td>3</td>\n",
       "      <td>320d Standart</td>\n",
       "      <td>2008</td>\n",
       "      <td>1</td>\n",
       "      <td>0</td>\n",
       "      <td>167.0</td>\n",
       "      <td>6</td>\n",
       "      <td>200</td>\n",
       "      <td>2000</td>\n",
       "      <td>sedan</td>\n",
       "      <td>70.9</td>\n",
       "    </tr>\n",
       "    <tr>\n",
       "      <th>500</th>\n",
       "      <td>1754394</td>\n",
       "      <td>09.Nis.19</td>\n",
       "      <td>BMW</td>\n",
       "      <td>3</td>\n",
       "      <td>320d Standart</td>\n",
       "      <td>2006</td>\n",
       "      <td>1</td>\n",
       "      <td>0</td>\n",
       "      <td>321.0</td>\n",
       "      <td>7</td>\n",
       "      <td>175</td>\n",
       "      <td>2000</td>\n",
       "      <td>sedan</td>\n",
       "      <td>74.0</td>\n",
       "    </tr>\n",
       "  </tbody>\n",
       "</table>\n",
       "</div>"
      ],
      "text/plain": [
       "      ilan_No ilan_tarihi marka  seri          model   yil  yakit  vites  \\\n",
       "496  10255453   18.Kas.18   BMW     3  320d Standart  2000      1      1   \n",
       "497   9862389   18.Eyl.18   BMW     3  320d Standart  2005      1      0   \n",
       "498   1769977   06.Kas.17   BMW     3  320d Standart  2006      1      0   \n",
       "499   1182416   05.Mar.18   BMW     3  320d Standart  2008      1      0   \n",
       "500   1754394   09.Nis.19   BMW     3  320d Standart  2006      1      0   \n",
       "\n",
       "        km  renk  motor_gucu  motor_hacim kasa_tipi  fiyat  \n",
       "496  302.0     2         136         1951     sedan   37.0  \n",
       "497  204.0     7         163         1995     sedan   79.0  \n",
       "498  287.0     2         175         2000     sedan   67.0  \n",
       "499  167.0     6         200         2000     sedan   70.9  \n",
       "500  321.0     7         175         2000     sedan   74.0  "
      ]
     },
     "execution_count": 8,
     "metadata": {},
     "output_type": "execute_result"
    }
   ],
   "source": [
    "data.tail()\n",
    "#son 5 veriyi gösterme"
   ]
  },
  {
   "cell_type": "code",
   "execution_count": 9,
   "metadata": {},
   "outputs": [
    {
     "data": {
      "text/plain": [
       "2006    115\n",
       "2010     52\n",
       "2005     47\n",
       "2011     37\n",
       "2013     32\n",
       "2003     32\n",
       "2012     29\n",
       "2008     28\n",
       "2007     27\n",
       "2004     25\n",
       "2009     23\n",
       "2002     14\n",
       "2001     10\n",
       "2000     10\n",
       "2015      7\n",
       "1998      5\n",
       "2014      4\n",
       "1999      4\n",
       "Name: yil, dtype: int64"
      ]
     },
     "execution_count": 9,
     "metadata": {},
     "output_type": "execute_result"
    }
   ],
   "source": [
    "data.yil.value_counts()\n",
    "#yil alanında her yıla ait ne kadar veri olduğunu sayar"
   ]
  },
  {
   "cell_type": "code",
   "execution_count": 10,
   "metadata": {},
   "outputs": [
    {
     "data": {
      "text/plain": [
       "array([2010, 2013, 2004, 2006, 2000, 2007, 2012, 2001, 2008, 2005, 2011,\n",
       "       2002, 2009, 1998, 1999, 2003, 2015, 2014], dtype=int64)"
      ]
     },
     "execution_count": 10,
     "metadata": {},
     "output_type": "execute_result"
    }
   ],
   "source": [
    "data.yil.unique()\n",
    "#yil alanında her veriden benzersiz olanı getirir"
   ]
  },
  {
   "cell_type": "code",
   "execution_count": 11,
   "metadata": {},
   "outputs": [
    {
     "data": {
      "text/plain": [
       "1998"
      ]
     },
     "execution_count": 11,
     "metadata": {},
     "output_type": "execute_result"
    }
   ],
   "source": [
    "data.yil.min()\n",
    "#yil alanının minimum kaydı getirir"
   ]
  },
  {
   "cell_type": "code",
   "execution_count": 12,
   "metadata": {},
   "outputs": [
    {
     "data": {
      "text/plain": [
       "2015"
      ]
     },
     "execution_count": 12,
     "metadata": {},
     "output_type": "execute_result"
    }
   ],
   "source": [
    "data.yil.max()\n",
    "#yil alanının maksimum kaydını getirir"
   ]
  },
  {
   "cell_type": "code",
   "execution_count": 13,
   "metadata": {},
   "outputs": [
    {
     "name": "stderr",
     "output_type": "stream",
     "text": [
      "No handles with labels found to put in legend.\n"
     ]
    },
    {
     "data": {
      "image/png": "[encoded data removed]",
      "text/plain": [
       "<Figure size 432x288 with 1 Axes>"
      ]
     },
     "metadata": {},
     "output_type": "display_data"
    }
   ],
   "source": [
    "data.boxplot(column=\"km\", by=\"yil\")\n",
    "plt.legend()\n",
    "plt.xlabel(\"YIL\")\n",
    "plt.ylabel(\"KM\")\n",
    "plt.title(\"KM - YIL ORANI\")\n",
    "plt.xticks(rotation=45)\n",
    "plt.show()"
   ]
  },
  {
   "cell_type": "code",
   "execution_count": 14,
   "metadata": {},
   "outputs": [
    {
     "data": {
      "text/plain": [
       "Text(0.5,1,'Araçların Yıllara Göre Ortalama Fiyatları')"
      ]
     },
     "execution_count": 14,
     "metadata": {},
     "output_type": "execute_result"
    },
    {
     "data": {
      "image/png": "[encoded data removed]",
      "text/plain": [
       "<Figure size 1080x720 with 1 Axes>"
      ]
     },
     "metadata": {},
     "output_type": "display_data"
    }
   ],
   "source": [
    "yil_list=list(data['yil'].unique())\n",
    "fiyat_alan=[]\n",
    "for i in yil_list:\n",
    "    t=data[data['yil']==i]\n",
    "    fiyat_toplam=(sum(t.fiyat)/len(t))\n",
    "    fiyat_alan.append(fiyat_toplam)\n",
    "dta=pd.DataFrame({'yil_list':yil_list,'fiyat_alan':fiyat_alan})\n",
    "new_ind=(dta['fiyat_alan'].sort_values(ascending=True)).index.values\n",
    "sorted_dta=dta.reindex(new_ind)\n",
    "\n",
    "plt.figure(figsize=(15,10))\n",
    "sns.barplot(x=sorted_dta['yil_list'], y=sorted_dta['fiyat_alan'])\n",
    "plt.xticks(rotation=45)\n",
    "plt.xlabel('YIL')\n",
    "plt.ylabel('FİYAT')\n",
    "plt.title('Araçların Yıllara Göre Ortalama Fiyatları')"
   ]
  },
  {
   "cell_type": "code",
   "execution_count": 15,
   "metadata": {},
   "outputs": [
    {
     "name": "stdout",
     "output_type": "stream",
     "text": [
      "[1, 2, 3, 4, 5, 6, 7, 8, 9, 10, 11, 15]\n"
     ]
    },
    {
     "data": {
      "image/png": "[encoded data removed]",
      "text/plain": [
       "<Figure size 1080x1080 with 1 Axes>"
      ]
     },
     "metadata": {},
     "output_type": "display_data"
    }
   ],
   "source": [
    "data.renk.head(10)\n",
    "\n",
    "data.renk.dropna(inplace=True)\n",
    "#renk alanında boş bırakılan değer varsa onu sil\n",
    "\n",
    "labels=data.renk.value_counts().index\n",
    "print(sorted(labels))\n",
    "sirali=sorted(labels)\n",
    "\n",
    "colors=['Cornsilk','#403D39','gray','red','MidnightBlue','#BFBFBF','#355C7D','blue','brown','#E8E28B','purple','orange']\n",
    "\n",
    "explodes=[0,0,0,0,0,0,0,0,0,0,0,0]\n",
    "sizes=data.renk.value_counts().values\n",
    "\n",
    "plt.figure(figsize=(15,15))\n",
    "plt.pie(sizes, explode=explodes, labels=sirali, colors=colors, autopct='%1.1f%%')\n",
    "plt.show()\n",
    "\n",
    "\n",
    "#beyaz,siyah,gri,kırmızı,lacivert,gümüş gri,füme,mavi,kahverengi,şampanya,mor,bej,yeşil,turuncu,bordo"
   ]
  },
  {
   "cell_type": "code",
   "execution_count": 16,
   "metadata": {},
   "outputs": [
    {
     "data": {
      "text/plain": [
       "RandomForestRegressor(bootstrap=True, criterion='mse', max_depth=None,\n",
       "           max_features='auto', max_leaf_nodes=None,\n",
       "           min_impurity_decrease=0.0, min_impurity_split=None,\n",
       "           min_samples_leaf=1, min_samples_split=2,\n",
       "           min_weight_fraction_leaf=0.0, n_estimators=700, n_jobs=1,\n",
       "           oob_score=False, random_state=None, verbose=0, warm_start=False)"
      ]
     },
     "execution_count": 16,
     "metadata": {},
     "output_type": "execute_result"
    }
   ],
   "source": [
    "from sklearn.model_selection import train_test_split\n",
    "\n",
    "k=data.iloc[:,5:10].values\n",
    "#5-10.kolonları alır(yil,yakit,vites,km,renk)\n",
    "l=data.fiyat.values.reshape(-1,1)\n",
    "#fiyat kolonunu alır\n",
    "x,x_test,y,y_test=train_test_split(k,l,test_size=0.2)\n",
    "rf = RandomForestRegressor(n_estimators = 700)\n",
    "#(n_estimators) değeri kaç tane ağaç kullanılacağını ifade eder\n",
    "#(random_state) değeri aynı veriler girildiğinde sonucun kopyalanmasını\n",
    "#kolaylaştırır(her seferinde sonucun farklı çıkmasını engeller)\n",
    "rf.fit(x,y.ravel())\n",
    "#x ve y den aldığı kolonları"
   ]
  },
  {
   "cell_type": "code",
   "execution_count": 19,
   "metadata": {},
   "outputs": [
    {
     "name": "stdout",
     "output_type": "stream",
     "text": [
      "yıl giriniz \n",
      "2007\n",
      "yakıt giriniz \n",
      "1\n",
      "vites giriniz \n",
      "0\n",
      "km giriniz \n",
      "130\n",
      "renk giriniz \n",
      "2\n",
      "Fiyat değeri :  [79.23235714]\n",
      "Training Accuracy =  0.9790066377896542\n",
      "Test Accuracy =  0.8129765336765817\n"
     ]
    }
   ],
   "source": [
    "yil=input(\"yıl giriniz \\n\")\n",
    "yakit=input(\"yakıt giriniz \\n\")\n",
    "vites=input(\"vites giriniz \\n\")\n",
    "km=input(\"km giriniz \\n\")\n",
    "renk=input(\"renk giriniz \\n\")\n",
    "\n",
    "new_pred = rf.predict(np.array([[int(yil),int(yakit),int(vites),int(km),int(renk)]]))\n",
    "print(\"Fiyat değeri : \",new_pred)\n",
    "\n",
    "print(\"Training Accuracy = \", rf.score(x, y))\n",
    "print(\"Test Accuracy = \", rf.score(x_test, y_test))\n",
    "#Hata oranı 0.03 tür\n",
    "#RandomForest doğruluk oranı"
   ]
  },
  {
   "cell_type": "code",
   "execution_count": 20,
   "metadata": {},
   "outputs": [
    {
     "name": "stdout",
     "output_type": "stream",
     "text": [
      "b0 (bias değeri) :  -11532.813525155243\n",
      "b1 b2 b3 b4 b5 (eğim değerleri) :  [ 5.80286994e+00  1.88460358e-14  1.09876344e+00 -1.43265960e-01\n",
      "  1.56831314e-01]\n",
      "yıl giriniz \n",
      "2007\n",
      "yakıt giriniz \n",
      "1\n",
      "vites giriniz \n",
      "0\n",
      "km giriniz \n",
      "130\n",
      "renk giriniz \n",
      "2\n",
      "Fiyat değeri :  [95.2355377]\n",
      "Training Accuracy =  0.7767137945302282\n",
      "Test Accuracy =  0.7601576991297526\n"
     ]
    }
   ],
   "source": [
    "from sklearn.linear_model import LinearRegression\n",
    "\n",
    "p=data.iloc[:,5:10].values\n",
    "\n",
    "r=data.fiyat.values.reshape(-1,1)\n",
    "\n",
    "x,x_test,y,y_test=train_test_split(p,r,test_size=0.2)\n",
    "\n",
    "multiple_lineer_regression = LinearRegression()\n",
    "\n",
    "multiple_lineer_regression.fit(x,y.ravel())\n",
    "\n",
    "print(\"b0 (bias değeri) : \", multiple_lineer_regression.intercept_)\n",
    "\n",
    "print(\"b1 b2 b3 b4 b5 (eğim değerleri) : \", multiple_lineer_regression.coef_)\n",
    "\n",
    "yil=input(\"yıl giriniz \\n\")\n",
    "yakit=input(\"yakıt giriniz \\n\")\n",
    "vites=input(\"vites giriniz \\n\")\n",
    "km=input(\"km giriniz \\n\")\n",
    "renk=input(\"renk giriniz \\n\")\n",
    "\n",
    "new_pred = multiple_lineer_regression.predict(np.array([[int(yil),int(yakit),int(vites),int(km),int(renk)]]))\n",
    "\n",
    "print(\"Fiyat değeri : \", new_pred)\n",
    "print(\"Training Accuracy = \", multiple_lineer_regression.score(x, y))\n",
    "print(\"Test Accuracy = \", multiple_lineer_regression.score(x_test, y_test))"
   ]
  },
  {
   "cell_type": "code",
   "execution_count": null,
   "metadata": {},
   "outputs": [],
   "source": []
  }
 ],
 "metadata": {
  "kernelspec": {
   "display_name": "Python 3",
   "language": "python",
   "name": "python3"
  },
  "language_info": {
   "codemirror_mode": {
    "name": "ipython",
    "version": 3
   },
   "file_extension": ".py",
   "mimetype": "text/x-python",
   "name": "python",
   "nbconvert_exporter": "python",
   "pygments_lexer": "ipython3",
   "version": "3.6.5"
  }
 },
 "nbformat": 4,
 "nbformat_minor": 2
}
